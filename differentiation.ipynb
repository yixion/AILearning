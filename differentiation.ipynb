{
 "cells": [
  {
   "cell_type": "markdown",
   "id": "4e27243e",
   "metadata": {},
   "source": [
    "# 微分<br>\n",
    "## 一、sympy(test)\n",
    "\n",
    "---"
   ]
  },
  {
   "cell_type": "code",
   "execution_count": 1,
   "id": "510fd6c6",
   "metadata": {},
   "outputs": [
    {
     "data": {
      "text/latex": [
       "$\\displaystyle 100 - 20 x$"
      ],
      "text/plain": [
       "100 - 20*x"
      ]
     },
     "execution_count": 1,
     "metadata": {},
     "output_type": "execute_result"
    }
   ],
   "source": [
    "from sympy import *\n",
    "x = Symbol('x')\n",
    "y = -10* x**2 + 100 * x + 5\n",
    "yprime = y.diff(x)\n",
    "yprime"
   ]
  },
  {
   "cell_type": "code",
   "execution_count": 3,
   "id": "f575545e",
   "metadata": {},
   "outputs": [
    {
     "name": "stdout",
     "output_type": "stream",
     "text": [
      "{x: 5}\n",
      "x=5, 最大值 =255\n"
     ]
    }
   ],
   "source": [
    "from sympy.solvers import solve\n",
    "\n",
    "#first order differentiation\n",
    "dict1 = solve([yprime])\n",
    "print(dict1)\n",
    "x1 = dict1[x]\n",
    "print(f'x={x1}, 最大值 ={-10* x1**2 + 100* x1 + 5}')"
   ]
  },
  {
   "cell_type": "code",
   "execution_count": null,
   "id": "2427ea0b",
   "metadata": {},
   "outputs": [],
   "source": []
  }
 ],
 "metadata": {
  "kernelspec": {
   "display_name": "Python 3 (ipykernel)",
   "language": "python",
   "name": "python3"
  },
  "language_info": {
   "codemirror_mode": {
    "name": "ipython",
    "version": 3
   },
   "file_extension": ".py",
   "mimetype": "text/x-python",
   "name": "python",
   "nbconvert_exporter": "python",
   "pygments_lexer": "ipython3",
   "version": "3.9.17"
  }
 },
 "nbformat": 4,
 "nbformat_minor": 5
}
