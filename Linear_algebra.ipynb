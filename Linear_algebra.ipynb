{
 "cells": [
  {
   "cell_type": "markdown",
   "id": "3baba050",
   "metadata": {},
   "source": [
    "# 線性代數<br>\n",
    "## 一、向量(vector)\n",
    "\n",
    "---"
   ]
  },
  {
   "cell_type": "markdown",
   "id": "4c9957e2",
   "metadata": {},
   "source": [
    "張量 => 矩陣方式儲存<br>\n",
    "向量是一維張量\n"
   ]
  },
  {
   "cell_type": "code",
   "execution_count": 3,
   "id": "306a2be3",
   "metadata": {},
   "outputs": [
    {
     "name": "stdout",
     "output_type": "stream",
     "text": [
      "[2 1]\n"
     ]
    }
   ],
   "source": [
    "import numpy as np\n",
    "v = np.array([2,1])\n",
    "print(v)"
   ]
  },
  {
   "cell_type": "markdown",
   "id": "cc65246d",
   "metadata": {},
   "source": [
    "$\\bf1.$長度(magnitude):<br>\n",
    "&emsp;&emsp;計算公式為歐幾里德距離(Euclidean distance)<br>&emsp;&emsp;&emsp;&emsp;&emsp;&emsp;&emsp;&emsp;$\\sqrt{v_1^2+v_2^2}$\n"
   ]
  },
  {
   "cell_type": "code",
   "execution_count": 4,
   "id": "5ba24331",
   "metadata": {},
   "outputs": [
    {
     "name": "stdout",
     "output_type": "stream",
     "text": [
      "長度 = 2.23606797749979\n"
     ]
    }
   ],
   "source": [
    "magnitude = np.linalg.norm(v) #(v[0]**2 + v[1]**2) ** (1/2)\n",
    "print('長度 =',magnitude)"
   ]
  },
  {
   "cell_type": "markdown",
   "id": "b7506813",
   "metadata": {},
   "source": [
    "$\\bf2.$方向(direction):<br>\n",
    "&emsp;&emsp;使用 $\\tan^{-1}$ 函數計算"
   ]
  },
  {
   "cell_type": "code",
   "execution_count": 5,
   "id": "70589c80",
   "metadata": {
    "scrolled": true
   },
   "outputs": [
    {
     "name": "stdout",
     "output_type": "stream",
     "text": [
      "tan(Θ) = 0.5\n",
      "弳度(radian) = 0.4636\n",
      "角度(degree) = 26.57\n"
     ]
    }
   ],
   "source": [
    "import math\n",
    "\n",
    "vTan = v[1] / v[0]\n",
    "print('tan(Θ) =', vTan)\n",
    "\n",
    "theta = math.atan(vTan)\n",
    "print('弳度(radian) =', round(theta,4)) #round(number, 想要浮點數的位數)\n",
    "print('角度(degree) =', round(theta*180/math.pi, 2))"
   ]
  },
  {
   "cell_type": "markdown",
   "id": "ea4a7b8e",
   "metadata": {},
   "source": [
    "$\\bf3.$向量加減法:<br>\n",
    "&emsp;&emsp;加減一個常數直接對每個常，長度、方向均改變"
   ]
  },
  {
   "cell_type": "code",
   "execution_count": 7,
   "id": "fec78e27",
   "metadata": {},
   "outputs": [
    {
     "data": {
      "image/png": "[encoded data removed]",
      "text/plain": [
       "<Figure size 640x480 with 1 Axes>"
      ]
     },
     "metadata": {},
     "output_type": "display_data"
    }
   ],
   "source": [
    "import matplotlib.pyplot as plt\n",
    "plt.axis('equal')\n",
    "plt.grid()\n",
    "\n",
    "plt.xticks(np.arange(-0.05, 0.06, 0.01), labels=np.arange(-5, 6, 1))\n",
    "plt.yticks(np.arange(-3, 5, 1)/100, labels=np.arange(-3, 5, 1))\n",
    "plt.show()"
   ]
  },
  {
   "cell_type": "code",
   "execution_count": null,
   "id": "88fef1fb",
   "metadata": {},
   "outputs": [],
   "source": []
  }
 ],
 "metadata": {
  "kernelspec": {
   "display_name": "Python 3 (ipykernel)",
   "language": "python",
   "name": "python3"
  },
  "language_info": {
   "codemirror_mode": {
    "name": "ipython",
    "version": 3
   },
   "file_extension": ".py",
   "mimetype": "text/x-python",
   "name": "python",
   "nbconvert_exporter": "python",
   "pygments_lexer": "ipython3",
   "version": "3.9.17"
  }
 },
 "nbformat": 4,
 "nbformat_minor": 5
}
